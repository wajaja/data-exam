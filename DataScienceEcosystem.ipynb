{
 "cells": [
  {
   "cell_type": "markdown",
   "id": "89d85707-34af-4f6b-9d39-dfcb3144656a",
   "metadata": {},
   "source": [
    "Exercise 8 - Create a code cell to multiply and add numbers"
   ]
  },
  {
   "cell_type": "code",
   "execution_count": 3,
   "id": "e0bccb39-8929-47de-ad01-69b13f1f35c6",
   "metadata": {
    "tags": []
   },
   "outputs": [
    {
     "data": {
      "text/plain": [
       "17"
      ]
     },
     "execution_count": 3,
     "metadata": {},
     "output_type": "execute_result"
    }
   ],
   "source": [
    "#This a simple arithmetic expression to mutiply then add integers\n",
    "(3*4)+5"
   ]
  },
  {
   "cell_type": "markdown",
   "id": "f701550f-fa34-4431-b08e-93428f3c5f62",
   "metadata": {},
   "source": [
    "Exercise 9 - Create a code cell to convert minutes to hours"
   ]
  },
  {
   "cell_type": "code",
   "execution_count": 9,
   "id": "266ba3af-755a-4dee-a02a-cfad08b22a5d",
   "metadata": {
    "tags": []
   },
   "outputs": [
    {
     "name": "stdout",
     "output_type": "stream",
     "text": [
      "3\n"
     ]
    }
   ],
   "source": [
    "minutes = 200\n",
    "#This will convert 200 minutes to hours by diving by 60\n",
    "h = minutes//60\n",
    "print(h)"
   ]
  },
  {
   "cell_type": "markdown",
   "id": "1f207d67-3ca5-48e4-af40-6b880fb9c110",
   "metadata": {},
   "source": [
    "Exercise 10 - Insert a markdown cell to list Objectives"
   ]
  },
  {
   "cell_type": "markdown",
   "id": "e061ba48-e136-4b2e-bba3-ce579932428c",
   "metadata": {},
   "source": [
    "## Objectives:\n",
    "\n",
    "**List popular languages for Data Science**\n",
    "- Python\n",
    "- R\n",
    "- Scala\n",
    "- Julia\n",
    "- SQL"
   ]
  },
  {
   "cell_type": "markdown",
   "id": "7c336bb7-42f8-4f80-8147-26ef9affc706",
   "metadata": {},
   "source": [
    "Exercise 11 - Create a markdown cell to indicate the Author's name"
   ]
  },
  {
   "cell_type": "markdown",
   "id": "3f1f2513-03a7-4334-b7b8-3f2c21f9c103",
   "metadata": {},
   "source": [
    "## Author\n",
    "Cedrick Ngeja\n"
   ]
  },
  {
   "cell_type": "code",
   "execution_count": null,
   "id": "a0e772a9-5fe3-48a6-a1d7-66bf26c6c203",
   "metadata": {},
   "outputs": [],
   "source": []
  }
 ],
 "metadata": {
  "kernelspec": {
   "display_name": "Python",
   "language": "python",
   "name": "conda-env-python-py"
  },
  "language_info": {
   "codemirror_mode": {
    "name": "ipython",
    "version": 3
   },
   "file_extension": ".py",
   "mimetype": "text/x-python",
   "name": "python",
   "nbconvert_exporter": "python",
   "pygments_lexer": "ipython3",
   "version": "3.7.12"
  }
 },
 "nbformat": 4,
 "nbformat_minor": 5
}
